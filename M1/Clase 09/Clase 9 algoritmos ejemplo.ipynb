{
 "cells": [
  {
   "cell_type": "markdown",
   "id": "84e458de-aa45-4684-9a27-a8931a9aac08",
   "metadata": {},
   "source": [
    "### QuickSort Sort\n",
    "\n",
    "* Esta implementación utiliza pivote como el último elemento en la lista de números\n",
    "\n",
    "* Tiene un puntero para realizar un seguimiento de los elementos más pequeños que el pivote\n",
    "\n",
    "* Al final de la función de partition(), el puntero se intercambia con el pivote\n",
    "\n",
    "* Para generar números \"ordenados\" en relación con el pivote"
   ]
  },
  {
   "cell_type": "code",
   "execution_count": 3,
   "id": "25e66349-75f9-43f5-bad1-2672fd0f91cd",
   "metadata": {},
   "outputs": [
    {
     "name": "stdout",
     "output_type": "stream",
     "text": [
      "Lista desordenada\n",
      "[1, 7, 4, 1, 10, 9, -2]\n",
      "Lista ordenada en formato ascendente:\n",
      "[-2, 1, 1, 4, 7, 9, 10]\n"
     ]
    }
   ],
   "source": [
    "\n",
    " \n",
    "# Función para encontrar la posición de la partición\n",
    "def partition(array, low, high):\n",
    " \n",
    "    # elige el elemento más a la derecha como pivote\n",
    "    pivot = array[high]\n",
    " \n",
    "    # puntero para el mayor elemento\n",
    "    i = low - 1\n",
    " \n",
    "    # atravesar o iterar todos los elementos\n",
    "    # comparar cada elemento con el pivote\n",
    "    \n",
    "    for j in range(low, high):\n",
    "        if array[j] <= pivot:\n",
    " \n",
    "            # Si se encuentra un elemento más pequeño que el pivote\n",
    "            # intercambiarlo con el elemento mayor señalado por i\n",
    "            i = i + 1\n",
    " \n",
    "            # Intercambio de elemento en i con elemento en j\n",
    "            (array[i], array[j]) = (array[j], array[i])\n",
    " \n",
    "    # Intercambiar el elemento pivote con el elemento mayor especificado por i\n",
    "    (array[i + 1], array[high]) = (array[high], array[i + 1])\n",
    " \n",
    "    # Devuelve la posición desde donde se realiza la partición.\n",
    "    return i + 1\n",
    " \n",
    "# función para realizar ordenación rápida\n",
    " \n",
    "def quickSort(array, low, high):\n",
    "    if low < high:\n",
    " \n",
    "        # Encuentre el elemento pivote tal que\n",
    "        # el elemento más pequeño que el pivote están a la izquierda\n",
    "        # y el elemento mayor que el pivote están a la derecha\n",
    "        pi = partition(array, low, high)\n",
    " \n",
    "        # Recursive call on the left of pivot\n",
    "        quickSort(array, low, pi - 1)\n",
    " \n",
    "        # Recursive call on the right of pivot\n",
    "        quickSort(array, pi + 1, high)\n",
    " \n",
    " \n",
    "data = [1, 7, 4, 1, 10, 9, -2]\n",
    "print(\"Lista desordenada\")\n",
    "print(data)\n",
    " \n",
    "size = len(data)\n",
    " \n",
    "quickSort(data, 0, size - 1)\n",
    " \n",
    "print('Lista ordenada en formato ascendente:')\n",
    "print(data)"
   ]
  },
  {
   "cell_type": "markdown",
   "id": "67ff772e-ece7-4fab-b038-0c71c8971227",
   "metadata": {},
   "source": [
    "### Programa en Python para la implementación de MergeSort\n",
    "\n",
    "* Fusiona dos subarreglos de arr[].\n",
    "\n",
    "* El primer subarreglo es arr[l..m]\n",
    "\n",
    "* El segundo subarreglo es arr[m+1..r]"
   ]
  },
  {
   "cell_type": "code",
   "execution_count": 4,
   "id": "b084a1be-36ae-4d58-808d-db714e97f267",
   "metadata": {},
   "outputs": [
    {
     "name": "stdout",
     "output_type": "stream",
     "text": [
      "El arreglo dado es: \n",
      "12 11 13 5 6 7 \n",
      "\n",
      "El arreglo ordenado es: \n",
      "5 6 7 11 12 13 "
     ]
    }
   ],
   "source": [
    "def merge(arr, l, m, r):\n",
    "    n1 = m - l + 1\n",
    "    n2 = r - m\n",
    " \n",
    "    # crear arreglos temporales\n",
    "    L = [0] * (n1)\n",
    "    R = [0] * (n2)\n",
    " \n",
    "    # Copiar datos a matrices temporales L[] y R[]\n",
    "    for i in range(0, n1):\n",
    "        L[i] = arr[l + i]\n",
    " \n",
    "    for j in range(0, n2):\n",
    "        R[j] = arr[m + 1 + j]\n",
    " \n",
    "    # Combinar las matrices temporales de nuevo en arr[l..r]\n",
    "    i = 0     # Índice inicial del primer subarreglo\n",
    "    j = 0     # Índice inicial del segundo subarreglo\n",
    "    k = l     # Índice inicial del subarreglo fusionado\n",
    " \n",
    "    while i < n1 and j < n2:\n",
    "        if L[i] <= R[j]:\n",
    "            arr[k] = L[i]\n",
    "            i += 1\n",
    "        else:\n",
    "            arr[k] = R[j]\n",
    "            j += 1\n",
    "        k += 1\n",
    " \n",
    "    # Copiar los elementos restantes de L[], si hay alguno\n",
    "    \n",
    "    while i < n1:\n",
    "        arr[k] = L[i]\n",
    "        i += 1\n",
    "        k += 1\n",
    " \n",
    "    # Copiar los elementos restantes de R[], si hay alguno\n",
    "    \n",
    "    while j < n2:\n",
    "        arr[k] = R[j]\n",
    "        j += 1\n",
    "        k += 1\n",
    " \n",
    "# l es para el índice izquierdo y r es el índice derecho del sub-arreglo de arr a ordenar\n",
    " \n",
    " \n",
    "def mergeSort(arr, l, r):\n",
    "    if l < r:\n",
    " \n",
    "        # Same as (l+r)//2, but avoids overflow for large l and h\n",
    "        \n",
    "        m = l+(r-l)//2\n",
    " \n",
    "        # Ordenar la primera y la segunda mitad\n",
    "        mergeSort(arr, l, m)\n",
    "        mergeSort(arr, m+1, r)\n",
    "        merge(arr, l, m, r)\n",
    " \n",
    " \n",
    "# Código del controlador para probar arriba\n",
    "arr = [12, 11, 13, 5, 6, 7]\n",
    "n = len(arr)\n",
    "print(\"El arreglo dado es: \")\n",
    "for i in range(n):\n",
    "    print(\"%d\" % arr[i],end=\" \")\n",
    " \n",
    "mergeSort(arr, 0, n-1)\n",
    "print(\"\\n\\nEl arreglo ordenado es: \")\n",
    "for i in range(n):\n",
    "    print(\"%d\" % arr[i],end=\" \")\n"
   ]
  },
  {
   "cell_type": "markdown",
   "id": "956cdb7d-9761-453f-9e02-29086469af5e",
   "metadata": {},
   "source": [
    "### Programa Python para ordenar por conteo\n",
    "\n",
    "* La función principal que ordena la cadena dada arr[] en orden alfabético\n",
    " "
   ]
  },
  {
   "cell_type": "code",
   "execution_count": 7,
   "id": "49027e77-dd65-48bd-9f83-ecd366c271b1",
   "metadata": {},
   "outputs": [
    {
     "name": "stdout",
     "output_type": "stream",
     "text": [
      "Sorted character array is acdegilmnoooorrstttu\n"
     ]
    }
   ],
   "source": [
    "def countSort(arr):\n",
    " \n",
    "    # The output character array that will have sorted arr\n",
    "    output = [0 for i in range(len(arr))]\n",
    " \n",
    "    # Create a count array to store count of individual\n",
    "    # characters and initialize count array as 0\n",
    "    count = [0 for i in range(256)]\n",
    " \n",
    "    # For storing the resulting answer since the\n",
    "    # string is immutable\n",
    "    ans = [\"\" for _ in arr]\n",
    " \n",
    "    # Store count of each character\n",
    "    for i in arr:\n",
    "        count[ord(i)] += 1\n",
    " \n",
    "    # Change count[i] so that count[i] now contains actual\n",
    "    # position of this character in output array\n",
    "    for i in range(256):\n",
    "        count[i] += count[i-1]\n",
    " \n",
    "    # Build the output character array\n",
    "    for i in range(len(arr)):\n",
    "        output[count[ord(arr[i])]-1] = arr[i]\n",
    "        count[ord(arr[i])] -= 1\n",
    " \n",
    "    # Copy the output array to arr, so that arr now\n",
    "    # contains sorted characters\n",
    "    for i in range(len(arr)):\n",
    "        ans[i] = output[i]\n",
    "    return ans\n",
    " \n",
    " \n",
    "# Driver code\n",
    "if __name__ == '__main__':\n",
    "    arr = \"algoritmodecountsort\"\n",
    "    ans = countSort(arr)\n",
    "    print(\"Sorted character array is % s\" % (\"\".join(ans)))\n"
   ]
  },
  {
   "cell_type": "markdown",
   "id": "51059f83-667e-4b16-9dbe-f204ff7cd3d9",
   "metadata": {},
   "source": [
    "### Programa en Python para la implementación de Radix Sort\n",
    "\n",
    "* Una función para contar tipo de arr[] según el dígito representado por exp."
   ]
  },
  {
   "cell_type": "code",
   "execution_count": 8,
   "id": "596d7d1a-92a0-4502-a153-f0f928841508",
   "metadata": {},
   "outputs": [
    {
     "name": "stdout",
     "output_type": "stream",
     "text": [
      "2 24 45 66 75 90 170 802 "
     ]
    }
   ],
   "source": [
    "def countingSort(arr, exp1):\n",
    " \n",
    "    n = len(arr)\n",
    " \n",
    "    # The output array elements that will have sorted arr\n",
    "    output = [0] * (n)\n",
    " \n",
    "    # initialize count array as 0\n",
    "    count = [0] * (10)\n",
    " \n",
    "    # Store count of occurrences in count[]\n",
    "    for i in range(0, n):\n",
    "        index = arr[i] // exp1\n",
    "        count[index % 10] += 1\n",
    " \n",
    "    # Change count[i] so that count[i] now contains actual\n",
    "    # position of this digit in output array\n",
    "    for i in range(1, 10):\n",
    "        count[i] += count[i - 1]\n",
    " \n",
    "    # Build the output array\n",
    "    i = n - 1\n",
    "    while i >= 0:\n",
    "        index = arr[i] // exp1\n",
    "        output[count[index % 10] - 1] = arr[i]\n",
    "        count[index % 10] -= 1\n",
    "        i -= 1\n",
    " \n",
    "    # Copying the output array to arr[],\n",
    "    # so that arr now contains sorted numbers\n",
    "    i = 0\n",
    "    for i in range(0, len(arr)):\n",
    "        arr[i] = output[i]\n",
    " \n",
    "# Method to do Radix Sort\n",
    "def radixSort(arr):\n",
    " \n",
    "    # Find the maximum number to know number of digits\n",
    "    max1 = max(arr)\n",
    " \n",
    "    # Do counting sort for every digit. Note that instead\n",
    "    # of passing digit number, exp is passed. exp is 10^i\n",
    "    # where i is current digit number\n",
    "    exp = 1\n",
    "    while max1 / exp >= 1:\n",
    "        countingSort(arr, exp)\n",
    "        exp *= 10\n",
    " \n",
    " \n",
    "# Driver code\n",
    "arr = [170, 45, 75, 90, 802, 24, 2, 66]\n",
    " \n",
    "# Function Call\n",
    "radixSort(arr)\n",
    " \n",
    "for i in range(len(arr)):\n",
    "    print(arr[i],end=\" \")"
   ]
  },
  {
   "cell_type": "markdown",
   "id": "280cbb2f-2095-4c5c-ae5d-b98f98eafb65",
   "metadata": {},
   "source": [
    "### Ejemplos de algoritmos\n",
    "\n",
    "* Primero importamos las librerías a utilizar"
   ]
  },
  {
   "cell_type": "markdown",
   "id": "5bc3a149-5cb6-42d0-9198-79c103b6b995",
   "metadata": {},
   "source": [
    "#### Juego de adivinar un número  ----> Algoritmos\n",
    "\n",
    "* Búsqueda por fuerza bruta"
   ]
  },
  {
   "cell_type": "code",
   "execution_count": 22,
   "id": "5cf6185c-4f77-47b2-8c51-2d9487079f6b",
   "metadata": {},
   "outputs": [],
   "source": [
    "from random import randint, sample"
   ]
  },
  {
   "cell_type": "code",
   "execution_count": 23,
   "id": "65595671-eeea-4fa7-96c2-557e8f5ac0e3",
   "metadata": {},
   "outputs": [
    {
     "name": "stdout",
     "output_type": "stream",
     "text": [
      "Comienza a jugar: \n",
      "Intento numero:  1\n",
      "Ingrese un numero: \n"
     ]
    },
    {
     "name": "stdin",
     "output_type": "stream",
     "text": [
      " 10\n"
     ]
    },
    {
     "name": "stdout",
     "output_type": "stream",
     "text": [
      "Ingresaste el:  10\n",
      "El número ingresado es mayor, intenta nuevamente!\n",
      "Intento numero:  2\n",
      "Ingrese un numero: \n"
     ]
    },
    {
     "name": "stdin",
     "output_type": "stream",
     "text": [
      " 5\n"
     ]
    },
    {
     "name": "stdout",
     "output_type": "stream",
     "text": [
      "Ingresaste el:  5\n",
      "El numero ingresado es menor, intenta nuevamente\n",
      "Intento numero:  3\n",
      "Ingrese un numero: \n"
     ]
    },
    {
     "name": "stdin",
     "output_type": "stream",
     "text": [
      " 6\n"
     ]
    },
    {
     "name": "stdout",
     "output_type": "stream",
     "text": [
      "Ingresaste el:  6\n",
      "El numero ingresado es menor, intenta nuevamente\n",
      "Intento numero:  4\n",
      "Ingrese un numero: \n"
     ]
    },
    {
     "name": "stdin",
     "output_type": "stream",
     "text": [
      " 7\n"
     ]
    },
    {
     "name": "stdout",
     "output_type": "stream",
     "text": [
      "Ingresaste el:  7\n",
      "Adivinaste el número, era el  7\n",
      "Fin del juego\n"
     ]
    }
   ],
   "source": [
    "## Juego de adivinar  ----> Algoritmos\n",
    "numero_a_adivinar = randint(1,17)\n",
    "control= 0 # Variable de control de ciclo\n",
    "intentos = 1\n",
    "print(\"Comienza a jugar: \")\n",
    "while control == 0:\n",
    "    print('Intento numero: ', intentos)\n",
    "    print(\"Ingrese un numero: \")\n",
    "    num = int(input()) # Solicitamos el numero a comparar\n",
    "    print(\"Ingresaste el: \",num)\n",
    "    if num == numero_a_adivinar:\n",
    "        intentos += 1\n",
    "        print(\"Adivinaste el número, era el \", num)\n",
    "        print(\"Fin del juego\")\n",
    "        control = 1\n",
    "    elif (num > numero_a_adivinar):\n",
    "        print(\"El número ingresado es mayor, intenta nuevamente!\")\n",
    "        intentos += 1\n",
    "    elif (num < numero_a_adivinar):\n",
    "        print(\"El numero ingresado es menor, intenta nuevamente\")\n",
    "        intentos += 1"
   ]
  },
  {
   "cell_type": "markdown",
   "id": "c4d2280c-2837-4471-a995-81202ffd45f5",
   "metadata": {},
   "source": [
    "### El algoritmo de busqueda lineal:\n",
    "\n",
    "Busca un elemento en un array empezando por el primer elemento hasta dar con el valor deseado.\n",
    "Este método no es óptimo cuando hay muchos elementos. En ese caso es mejor utilizar el algoritmo de busqueda binaria.\n",
    "\n",
    "No es necesario que el array o lista este ordenada.\n"
   ]
  },
  {
   "cell_type": "code",
   "execution_count": 24,
   "id": "13629c90-bfa4-4aa3-9eb1-0fa03d31c25f",
   "metadata": {},
   "outputs": [
    {
     "data": {
      "text/plain": [
       "[8, 3, 4, 2, 1, 7, 5, 10, 6, 9]"
      ]
     },
     "execution_count": 24,
     "metadata": {},
     "output_type": "execute_result"
    }
   ],
   "source": [
    "numeros = sample(range(1,11),10)\n",
    "numeros"
   ]
  },
  {
   "cell_type": "code",
   "execution_count": 25,
   "id": "b8d1d832-cece-4780-b5d8-9c0beb78f981",
   "metadata": {},
   "outputs": [],
   "source": [
    "## Búsqueda lineal\n",
    "def busqueda_lineal(lista, valor):\n",
    "    pasos = 0\n",
    "    for i, item in enumerate(lista):\n",
    "        pasos += 1\n",
    "        if item == valor:\n",
    "            return \"Valor encontrado en {} pasos en la posicion {}.\".format (pasos, i)\n",
    "    return \"Elemento no encontrado\""
   ]
  },
  {
   "cell_type": "code",
   "execution_count": 26,
   "id": "1d2c96d2-dbfa-49f7-a590-f49e4ba4e683",
   "metadata": {},
   "outputs": [
    {
     "data": {
      "text/plain": [
       "'Valor encontrado en 10 pasos en la posicion 9.'"
      ]
     },
     "execution_count": 26,
     "metadata": {},
     "output_type": "execute_result"
    }
   ],
   "source": [
    "busqueda_lineal(numeros, 9)"
   ]
  },
  {
   "cell_type": "code",
   "execution_count": 9,
   "id": "434d9697-98ea-4682-832c-8df20f5570fa",
   "metadata": {},
   "outputs": [
    {
     "name": "stdin",
     "output_type": "stream",
     "text": [
      "indica un numero a buscar:  21\n"
     ]
    },
    {
     "name": "stdout",
     "output_type": "stream",
     "text": [
      "Encontrado en 22 iteraciones\n"
     ]
    },
    {
     "name": "stdin",
     "output_type": "stream",
     "text": [
      "indica un numero a buscar:  15\n"
     ]
    },
    {
     "name": "stdout",
     "output_type": "stream",
     "text": [
      "Encontrado en 16 iteraciones\n"
     ]
    },
    {
     "name": "stdin",
     "output_type": "stream",
     "text": [
      "indica un numero a buscar:  5\n"
     ]
    },
    {
     "name": "stdout",
     "output_type": "stream",
     "text": [
      "Encontrado en 6 iteraciones\n"
     ]
    },
    {
     "name": "stdin",
     "output_type": "stream",
     "text": [
      "indica un numero a buscar:  1\n"
     ]
    },
    {
     "name": "stdout",
     "output_type": "stream",
     "text": [
      "Encontrado en 2 iteraciones\n"
     ]
    },
    {
     "name": "stdin",
     "output_type": "stream",
     "text": [
      "indica un numero a buscar:  0\n"
     ]
    },
    {
     "name": "stdout",
     "output_type": "stream",
     "text": [
      "Encontrado en 1 iteraciones\n"
     ]
    },
    {
     "name": "stdin",
     "output_type": "stream",
     "text": [
      "indica un numero a buscar:  9\n"
     ]
    },
    {
     "name": "stdout",
     "output_type": "stream",
     "text": [
      "Encontrado en 10 iteraciones\n"
     ]
    },
    {
     "name": "stdin",
     "output_type": "stream",
     "text": [
      "indica un numero a buscar:  5\n"
     ]
    },
    {
     "name": "stdout",
     "output_type": "stream",
     "text": [
      "Encontrado en 6 iteraciones\n"
     ]
    },
    {
     "name": "stdin",
     "output_type": "stream",
     "text": [
      "indica un numero a buscar:  8\n"
     ]
    },
    {
     "name": "stdout",
     "output_type": "stream",
     "text": [
      "Encontrado en 9 iteraciones\n"
     ]
    },
    {
     "name": "stdin",
     "output_type": "stream",
     "text": [
      "indica un numero a buscar:  7\n"
     ]
    },
    {
     "name": "stdout",
     "output_type": "stream",
     "text": [
      "Encontrado en 8 iteraciones\n"
     ]
    },
    {
     "name": "stdin",
     "output_type": "stream",
     "text": [
      "indica un numero a buscar:  6\n"
     ]
    },
    {
     "name": "stdout",
     "output_type": "stream",
     "text": [
      "Encontrado en 7 iteraciones\n"
     ]
    },
    {
     "name": "stdin",
     "output_type": "stream",
     "text": [
      "indica un numero a buscar:  5\n"
     ]
    },
    {
     "name": "stdout",
     "output_type": "stream",
     "text": [
      "Encontrado en 6 iteraciones\n"
     ]
    },
    {
     "name": "stdin",
     "output_type": "stream",
     "text": [
      "indica un numero a buscar:  4\n"
     ]
    },
    {
     "name": "stdout",
     "output_type": "stream",
     "text": [
      "Encontrado en 5 iteraciones\n"
     ]
    },
    {
     "name": "stdin",
     "output_type": "stream",
     "text": [
      "indica un numero a buscar:  3\n"
     ]
    },
    {
     "name": "stdout",
     "output_type": "stream",
     "text": [
      "Encontrado en 4 iteraciones\n"
     ]
    },
    {
     "name": "stdin",
     "output_type": "stream",
     "text": [
      "indica un numero a buscar:  2\n"
     ]
    },
    {
     "name": "stdout",
     "output_type": "stream",
     "text": [
      "Encontrado en 3 iteraciones\n"
     ]
    },
    {
     "name": "stdin",
     "output_type": "stream",
     "text": [
      "indica un numero a buscar:  1\n"
     ]
    },
    {
     "name": "stdout",
     "output_type": "stream",
     "text": [
      "Encontrado en 2 iteraciones\n"
     ]
    },
    {
     "name": "stdin",
     "output_type": "stream",
     "text": [
      "indica un numero a buscar:  \n"
     ]
    }
   ],
   "source": [
    "valores=[0,1,2,3,4,5,6,7,8,9,10,11,12,13,14,15,16,17,18,19,20,21]\n",
    " \n",
    "def busquedaLineal(buscar):\n",
    "    \"\"\"\n",
    "    Funcion para la busqueda lineal\n",
    "    \n",
    "    Devuelve dos valores...\n",
    "        - True o False para determinar si ha encontrado el elemento\n",
    "        . Numero de interaciones en la lista o array para buscar el elemento\n",
    "    \"\"\"\n",
    " \n",
    "    # recorremos el array uno a uno hasta encontrar el que buscamos\n",
    "    for i in range(len(valores)):\n",
    "        if valores[i]==buscar:\n",
    "            return (True,i+1)\n",
    " \n",
    "    return (False,i+1)\n",
    " \n",
    "while True:\n",
    "    buscar=input(\"indica un numero a buscar: \")\n",
    "    if buscar==\"\":\n",
    "        break\n",
    " \n",
    "    try:\n",
    "        buscar=int(buscar)\n",
    "    except:\n",
    "        print(\"El valor tienes que ser numero entre 0 y 9\")\n",
    "        continue\n",
    " \n",
    "    conseguido,iteraciones=busquedaLineal(buscar)\n",
    "    if conseguido:\n",
    "        print(\"Encontrado en {} iteraciones\".format(iteraciones))\n",
    "    else:\n",
    "        print(\"El valor introducido no se encuentra en la lista de valores. Se han necesitado {} iteraciones\".format(iteraciones))"
   ]
  },
  {
   "cell_type": "markdown",
   "id": "5e9e01ad-8134-46a9-8499-e09a1423dcbe",
   "metadata": {},
   "source": [
    "### Matriz de adyacencia\n",
    "\n",
    "* Algoritmo de Dijkstra en Python"
   ]
  },
  {
   "cell_type": "code",
   "execution_count": 12,
   "id": "e239bad1-50c6-4c98-8235-537313444867",
   "metadata": {},
   "outputs": [],
   "source": [
    "import sys\n",
    "\n",
    "class Graph():\n",
    "    def __init__(self, vertx):\n",
    "      self.V = vertx\n",
    "      self.graph = [[0 for column in range(vertx)]\n",
    "                      for row in range(vertx)]\n",
    "                      \n",
    "    def pSol(self, dist):\n",
    "        print(\"Distancia del vértice desde el orígen\")\n",
    "        for node in range(self.V):\n",
    "            print(node, \"t\", dist[node])\n",
    "\n",
    "    def minDistance(self, dist, sptSet):\n",
    "        min = sys.maxsize\n",
    "        for v in range(self.V):\n",
    "            if dist[v] < min and sptSet[v] == False:\n",
    "                min = dist[v]\n",
    "                min_index = v\n",
    "        return min_index\n",
    " \n",
    "    def dijk(self, source):\n",
    "        dist = [sys.maxsize] * self.V\n",
    "        dist[source] = 0\n",
    "        sptSet = [False] * self.V\n",
    "        for cout in range(self.V):\n",
    "            u = self.minDistance(dist, sptSet)\n",
    "            sptSet[u] = True\n",
    "            for v in range(self.V):\n",
    "                if ((self.graph[u][v] > 0) \n",
    "                    and (sptSet[v] == False) \n",
    "                    and (dist[v] > dist[u] + self.graph[u][v])):\n",
    "                    dist[v] = dist[u] + self.graph[u][v]\n",
    "        self.pSol(dist)"
   ]
  },
  {
   "cell_type": "code",
   "execution_count": 13,
   "id": "72e94867-8459-4512-8019-443662b5eb3d",
   "metadata": {},
   "outputs": [
    {
     "data": {
      "text/plain": [
       "[[0, 0, 0, 0, 0, 0, 0, 0, 0],\n",
       " [0, 0, 0, 0, 0, 0, 0, 0, 0],\n",
       " [0, 0, 0, 0, 0, 0, 0, 0, 0],\n",
       " [0, 0, 0, 0, 0, 0, 0, 0, 0],\n",
       " [0, 0, 0, 0, 0, 0, 0, 0, 0],\n",
       " [0, 0, 0, 0, 0, 0, 0, 0, 0],\n",
       " [0, 0, 0, 0, 0, 0, 0, 0, 0],\n",
       " [0, 0, 0, 0, 0, 0, 0, 0, 0],\n",
       " [0, 0, 0, 0, 0, 0, 0, 0, 0]]"
      ]
     },
     "execution_count": 13,
     "metadata": {},
     "output_type": "execute_result"
    }
   ],
   "source": [
    "f = Graph(9)\n",
    "f.graph"
   ]
  },
  {
   "cell_type": "code",
   "execution_count": 14,
   "id": "d353253d-a683-4976-8482-ddb2d0ce0952",
   "metadata": {},
   "outputs": [],
   "source": [
    "f.graph = [[0, 4, 0, 0, 0, 0, 0, 8, 0],\n",
    "           [4, 0, 8, 0, 0, 0, 0, 11, 0],\n",
    "           [0, 8, 0, 7, 0, 4, 0, 0, 2],\n",
    "           [0, 0, 7, 0, 9, 14, 0, 0, 0],\n",
    "           [0, 0, 0, 9, 0, 10, 0, 0, 0],\n",
    "           [0, 0, 4, 14, 10, 0, 2, 0, 0],\n",
    "           [0, 0, 0, 0, 0, 2, 0, 1, 6],\n",
    "           [8, 11, 0, 0, 0, 0, 1, 0, 7],\n",
    "           [0, 0, 2, 0, 0, 0, 6, 7, 0]\n",
    "           ]"
   ]
  },
  {
   "cell_type": "code",
   "execution_count": 15,
   "id": "7a84508e-6976-4b24-bfcf-734d6d9d0505",
   "metadata": {},
   "outputs": [
    {
     "name": "stdout",
     "output_type": "stream",
     "text": [
      "Distancia del vértice desde el orígen\n",
      "0 t 0\n",
      "1 t 4\n",
      "2 t 12\n",
      "3 t 19\n",
      "4 t 21\n",
      "5 t 11\n",
      "6 t 9\n",
      "7 t 8\n",
      "8 t 14\n"
     ]
    }
   ],
   "source": [
    "f.dijk(0)"
   ]
  },
  {
   "cell_type": "code",
   "execution_count": 19,
   "id": "011752fd-acae-4fbc-a8b4-f82a26d8cac5",
   "metadata": {},
   "outputs": [],
   "source": [
    "f = Graph(5)\n",
    "f.graph = [[0, 1, 0, 0, 0],\n",
    "           [1, 0, 1, 1, 0],\n",
    "           [0, 1, 0, 0, 0],\n",
    "           [0, 1, 0, 0, 1],\n",
    "           [0, 0, 0, 1, 0]]"
   ]
  },
  {
   "cell_type": "code",
   "execution_count": 20,
   "id": "c85fea7b-4eca-452b-bc02-08cdd6d3c75b",
   "metadata": {},
   "outputs": [
    {
     "name": "stdout",
     "output_type": "stream",
     "text": [
      "Distancia del vértice desde el orígen\n",
      "0 t 0\n",
      "1 t 1\n",
      "2 t 2\n",
      "3 t 2\n",
      "4 t 3\n"
     ]
    }
   ],
   "source": [
    "f.dijk(0)"
   ]
  },
  {
   "cell_type": "code",
   "execution_count": null,
   "id": "9f3049f4-d821-4e20-8f3b-5ea5690053e6",
   "metadata": {},
   "outputs": [],
   "source": []
  }
 ],
 "metadata": {
  "kernelspec": {
   "display_name": "Python 3 (ipykernel)",
   "language": "python",
   "name": "python3"
  },
  "language_info": {
   "codemirror_mode": {
    "name": "ipython",
    "version": 3
   },
   "file_extension": ".py",
   "mimetype": "text/x-python",
   "name": "python",
   "nbconvert_exporter": "python",
   "pygments_lexer": "ipython3",
   "version": "3.9.13"
  }
 },
 "nbformat": 4,
 "nbformat_minor": 5
}
