{
 "cells": [
  {
   "cell_type": "markdown",
   "metadata": {},
   "source": [
    "### Constructor __init__\n",
    "Es un método especial que instancia objetos de una clase y que se invoca automáticamente.\n",
    "\n",
    "En él pueden inicializarse los atributos de un objeto.\n",
    "\n",
    "No es obligatorio crearlo ni inicializar todos los atributos.\n",
    "\n",
    "#### El método __init__ de la clase\n",
    "El método __init__ es un método especial de una clase en Python. El objetivo fundamental del método __init__ es inicializar los atributos del objeto que creamos.\n",
    "\n",
    "Las ventajas de implementar el método __init__ en lugar del método inicializar son:\n",
    "* El método __init__ es el primer método que se ejecuta cuando se crea un objeto.\n",
    "* El método __init__ se llama automáticamente. Es decir, es imposible de olvidarse de llamarlo ya que se llamará automáticamente.\n",
    "Quien utiliza POO en Python (Programación Orientada a Objetos) conoce el objetivo de este método.\n",
    "Otras características del método __init__ son:\n",
    "\n",
    "* Se ejecuta inmediatamente luego de crear un objeto.\n",
    "* El método __init__ no puede retornar dato.\n",
    "* El método __init__ es un método opcional, de todos modos es muy común declararlo.\n",
    "\n",
    "Veamos la sintaxis del contructor:\n",
    "\n",
    "def __init:([parámetros]):\n",
    "\n",
    "    [algoritmo]\n",
    "\n",
    "Debemos definir un método llamado __init__ (es decir utilizamos dos caractéres de subrayado, la palabra init y seguidamente otros dos caractéres de subrayado).\n",
    "\n",
    "[Ejemplos de __init__](https://www.tutorialesprogramacionya.com/pythonya/detalleconcepto.php?punto=44&codigo=44&inicio=30#:~:text=El%20m%C3%A9todo%20__init__,hecho%20en%20el%20concepto%20anterior.)"
   ]
  },
  {
   "cell_type": "code",
   "execution_count": 20,
   "metadata": {},
   "outputs": [],
   "source": [
    "class Ejemplo:\n",
    "    def __init__(self, parametro1, parametro2):\n",
    "        self.atributo1 = parametro1\n",
    "        self.atributo2 = parametro2"
   ]
  },
  {
   "cell_type": "markdown",
   "metadata": {},
   "source": [
    "### ¿Qué pasa con el self? ¿Porqué está como primer parámetro? ¿Para qué sirve?\n",
    "El método self, se encuentra como primer parámetro, y su función es hacer referencia al objeto que se está creando.\n",
    "En este caso, hace referencia al Ejemplo, que es lo que estamos creando.\n",
    "\n",
    "En la siguiente celda, vemos que cuando usamos la clase Ejemplo, no es necesario llamar a la funcion __init__ porque se esta ejecutando sóla. ¿Pero... cómo?, bueno, es una palabra reservada de Python que justamente es para inicializar un objeto, sin tener que llamarlo.\n",
    "\n",
    "Veamos que cuando llamamos a la clase, no hace falta poner el self, porque se ejecuta de manera implicita en la función"
   ]
  },
  {
   "cell_type": "code",
   "execution_count": 24,
   "metadata": {},
   "outputs": [
    {
     "name": "stdout",
     "output_type": "stream",
     "text": [
      "un valor\n",
      "otro valor\n",
      "<class '__main__.Ejemplo'>\n",
      "<__main__.Ejemplo object at 0x00000255AB8CCFD0>\n"
     ]
    }
   ],
   "source": [
    "un_ejemplo = Ejemplo('un valor', 'otro valor')\n",
    "print(un_ejemplo.atributo1)\n",
    "print(un_ejemplo.atributo2)\n",
    "print(Ejemplo)\n",
    "print(un_ejemplo)"
   ]
  },
  {
   "cell_type": "markdown",
   "metadata": {},
   "source": [
    "`No necesariamente el constructor tiene que tener todos los atributos inicializados a través de parámetros. Puede tenerlos asignados directamente como un valor`"
   ]
  },
  {
   "cell_type": "code",
   "execution_count": 25,
   "metadata": {},
   "outputs": [],
   "source": [
    "class Ejemplo():\n",
    "    def __init__(self, parametro1):\n",
    "        self.atributo1 = parametro1\n",
    "        self.atributo2 = 100"
   ]
  },
  {
   "cell_type": "code",
   "execution_count": 27,
   "metadata": {},
   "outputs": [
    {
     "name": "stdout",
     "output_type": "stream",
     "text": [
      "<__main__.Ejemplo object at 0x00000255AB8CCDF0>\n",
      "Otro valor\n",
      "100\n"
     ]
    }
   ],
   "source": [
    "otro_ejemplo = Ejemplo('Otro valor')\n",
    "print(otro_ejemplo)\n",
    "print(otro_ejemplo.atributo1)\n",
    "print(otro_ejemplo.atributo2)"
   ]
  },
  {
   "cell_type": "markdown",
   "metadata": {},
   "source": [
    "### Vamos a hacer un ejemplo un poco más completo.\n",
    "Crearemos la clase Gato, que va a contener:\n",
    "\n",
    "[Atributos]----------------------[Métodos]\n",
    "* \"Nombre\"              ------>  _ _ ___init___ _ _\n",
    "* \"Edad\"                ------> verEtapaDeVida()\n",
    "* \"Alimentos favoritos\" ------> esAlimentoFavorito()"
   ]
  },
  {
   "cell_type": "code",
   "execution_count": 28,
   "metadata": {},
   "outputs": [],
   "source": [
    "class Gato:\n",
    "    especie = 'mamífero'\n",
    "    \n",
    "    def __init__(self, nombre, edad):\n",
    "        self.nombre = nombre\n",
    "        self.edad = edad\n",
    "        self.alimentos = []\n",
    "\n",
    "    def verEtapaDeVida(self):\n",
    "        if self.edad > 1:\n",
    "            return(self.nombre, 'es adulto')\n",
    "        else:\n",
    "            return(self.nombre, 'es cachorro')\n",
    "    \n",
    "    def esAlimentoFavorito(self, alimento):\n",
    "        return alimento in self.alimentos\n",
    "        "
   ]
  },
  {
   "cell_type": "code",
   "execution_count": 36,
   "metadata": {},
   "outputs": [
    {
     "name": "stdout",
     "output_type": "stream",
     "text": [
      "[]\n",
      "Pikachu\n",
      "17\n",
      "Pikachu es adulto\n",
      "None\n"
     ]
    }
   ],
   "source": [
    "mi_gato = Gato('Pikachu', 17)\n",
    "print(mi_gato.alimentos)\n",
    "print(mi_gato.nombre)\n",
    "print(mi_gato.edad)\n",
    "print(mi_gato.verEtapaDeVida())"
   ]
  },
  {
   "cell_type": "code",
   "execution_count": 13,
   "metadata": {},
   "outputs": [],
   "source": [
    "###-----------------------------\n",
    "###Ejemplo: herencia de clases\n",
    "###-----------------------------\n",
    "\n",
    "class Empleado:\n",
    "\n",
    "    def __init__(self, nombre, edad, legajo, sueldo):\n",
    "        self.nombre=nombre\n",
    "        self.edad=edad\n",
    "        self.legajo=legajo\n",
    "        self.sueldoBase=sueldo\n",
    "    \n",
    "    def calcularSueldo(self, descuentos, bonos):\n",
    "        return self.sueldoBase-descuentos+bonos\n"
   ]
  },
  {
   "cell_type": "code",
   "execution_count": 14,
   "metadata": {},
   "outputs": [
    {
     "name": "stdout",
     "output_type": "stream",
     "text": [
      "Francisco Alfredo Sabena\n",
      "28\n",
      "252\n",
      "100\n"
     ]
    }
   ],
   "source": [
    "empleado = Empleado('Francisco Alfredo Sabena', '28', '252', 100)\n",
    "print(empleado.nombre)\n",
    "print(empleado.edad)\n",
    "print(empleado.legajo)\n",
    "print(empleado.sueldoBase)"
   ]
  },
  {
   "cell_type": "markdown",
   "metadata": {},
   "source": [
    "### Implementación de una pila en Python (LIFO) ---> LAST IN FIRST OUT"
   ]
  },
  {
   "cell_type": "code",
   "execution_count": 7,
   "metadata": {},
   "outputs": [],
   "source": [
    "class Estructura_Pila(object):\n",
    "    def __init__(self):\n",
    "        self.__list = []\n",
    "    # Agregar un elemento a la Pila\n",
    "    def push(self, item):\n",
    "        self.__list.append(item)\n",
    "        return 'Ha ingresado el elemento: ',item\n",
    "    # Quitar un elemento de la Pila ... PRESTEN ATENCIÓN\n",
    "    def pop(self):\n",
    "        return 'Se eliminó el elemento: ',self.__list.pop()\n",
    "    # Obtener el elemento superior de la Pila\n",
    "    def peek(self):\n",
    "        if self.__list:\n",
    "            return 'El ultimo elemento de la lista es: ', self.__list[-1]\n",
    "        else:\n",
    "            return 'No hay nada en la lista'\n",
    "    # Determinar si la Pila está vacía\n",
    "    def is_empty(self):\n",
    "        if self.__list == []:\n",
    "            return 'La lista está vacía'\n",
    "        else:\n",
    "            return 'La lista tiene los siguientes elementos', self.__list\n",
    "    # Devuelve el número de elementos de la lista:\n",
    "    def size(self):\n",
    "        longitud = len(self.__list)\n",
    "        return {f'La lista contiene: {longitud} elementos'}\n",
    "\n",
    "#if __name__ == '__main__':\n",
    "#    s = Estructura_Pila()\n",
    "#    s.push()"
   ]
  },
  {
   "cell_type": "markdown",
   "metadata": {},
   "source": [
    "[¿Porqué usamos __ __name__ __ __==__ __ __main__ __?](https://stackabuse.com/what-does-if-__name__-__main__-do-in-python/)\n",
    "\n",
    "[Tutorial de Python: if __ __name__ __ __==__ __ __main__ __ by Corey Schafer](https://www.youtube.com/watch?v=sugvnHA7ElY)"
   ]
  },
  {
   "cell_type": "code",
   "execution_count": 8,
   "metadata": {},
   "outputs": [
    {
     "name": "stdout",
     "output_type": "stream",
     "text": [
      "('Ha ingresado el elemento: ', 1)\n",
      "('Ha ingresado el elemento: ', 'Ejemplo N°1')\n",
      "('Ha ingresado el elemento: ', 'Ejemplo N°2')\n",
      "('Ha ingresado el elemento: ', 'Ejemplo N°3')\n",
      "('Ha ingresado el elemento: ', 2256)\n",
      "('Ha ingresado el elemento: ', 'Un numero')\n",
      "('Se eliminó el elemento: ', 'Un numero')\n",
      "('El ultimo elemento de la lista es: ', 2256)\n",
      "('La lista tiene los siguientes elementos', [1, 'Ejemplo N°1', 'Ejemplo N°2', 'Ejemplo N°3', 2256])\n",
      "{'La lista contiene: 5 elementos'}\n"
     ]
    }
   ],
   "source": [
    "s = Estructura_Pila()\n",
    "print(s.push(1))\n",
    "print(s.push(\"Ejemplo N°1\"))\n",
    "print(s.push(\"Ejemplo N°2\"))\n",
    "print(s.push(\"Ejemplo N°3\"))\n",
    "print(s.push(2256))\n",
    "print(s.push('Un numero'))\n",
    "print(s.pop())\n",
    "print(s.peek())\n",
    "print(s.is_empty())\n",
    "print(s.size())"
   ]
  },
  {
   "cell_type": "code",
   "execution_count": 9,
   "metadata": {},
   "outputs": [
    {
     "name": "stdout",
     "output_type": "stream",
     "text": [
      "('Se eliminó el elemento: ', 2256)\n",
      "('La lista tiene los siguientes elementos', [1, 'Ejemplo N°1', 'Ejemplo N°2', 'Ejemplo N°3'])\n"
     ]
    }
   ],
   "source": [
    "print(s.pop())\n",
    "print(s.is_empty())"
   ]
  },
  {
   "cell_type": "markdown",
   "metadata": {},
   "source": [
    "### Implementación de una cola en Python (FIFO) FIRST IN FIRST OUT"
   ]
  },
  {
   "cell_type": "code",
   "execution_count": 11,
   "metadata": {},
   "outputs": [],
   "source": [
    "class Estructura_Cola(object):\n",
    "    # Creamos lista de manera automática, cada vez que llamamos a la clase\n",
    "    def __init__(self):\n",
    "        self.__list = []\n",
    "    # Agregamos un elemento a la cola\n",
    "    def enqueue(self, item):\n",
    "        self.__list.append(item)\n",
    "        return {f'Se agregó a la cola el siguiente elemento: {item}'}\n",
    "    # Quitar un elemento de la cola; la diferencia con el código de Pilas es que en el pop, le estamos diciendo que \n",
    "    # borre el último elemento de las lista, al no pasarle ningún número en el paréntesis, pop().\n",
    "    # Mientras que en las colas ---> pop(0), se le pasa pop con el índice en 0.\n",
    "    def dequeue(self):\n",
    "        popeado = self.__list.pop(0)\n",
    "        return {f'Se eliminó el elemento: {popeado}'}\n",
    "    # Verificar si la cola está vacía\n",
    "    def is_empty(self):\n",
    "        if self.__list == []:\n",
    "            return 'No hay nada en la cola'\n",
    "        else:\n",
    "            return {f'Tenemos en cola los siguientes elementos: {self.__list}'} \n",
    "    # Devolver la cantidad de elementos que tiene la cola\n",
    "    def size(self):\n",
    "        longitud_de_cola = len(self.__list)\n",
    "        return {f'Cantidad de elementos en cola: {longitud_de_cola}'}\n"
   ]
  },
  {
   "cell_type": "code",
   "execution_count": 12,
   "metadata": {},
   "outputs": [
    {
     "name": "stdout",
     "output_type": "stream",
     "text": [
      "{'Se agregó a la cola el siguiente elemento: Primer elemento en llegar'}\n",
      "{'Se agregó a la cola el siguiente elemento: Segundo elemento en espera'}\n",
      "{'Se agregó a la cola el siguiente elemento: Tercer elemento'}\n",
      "{'Se agregó a la cola el siguiente elemento: Alfre 4 en llegar'}\n",
      "{'Se eliminó el elemento: Primer elemento en llegar'}\n",
      "{\"Tenemos en cola los siguientes elementos: ['Segundo elemento en espera', 'Tercer elemento', 'Alfre 4 en llegar']\"}\n",
      "{'Cantidad de elementos en cola: 3'}\n"
     ]
    }
   ],
   "source": [
    "cola = Estructura_Cola()\n",
    "print(cola.enqueue(\"Primer elemento en llegar\"))\n",
    "print(cola.enqueue(\"Segundo elemento en espera\"))\n",
    "print(cola.enqueue(\"Tercer elemento\"))\n",
    "print(cola.enqueue(\"Alfre 4 en llegar\"))\n",
    "print(cola.dequeue())\n",
    "print(cola.is_empty())\n",
    "print(cola.size())"
   ]
  },
  {
   "cell_type": "markdown",
   "metadata": {},
   "source": [
    "### Ejemplo de implementación"
   ]
  },
  {
   "cell_type": "code",
   "execution_count": 4,
   "metadata": {},
   "outputs": [],
   "source": [
    "document_actions = Estructura_Pila()\n",
    "# Primero introducimos el título del documento\n",
    "v1 = document_actions.push('Acción: enter; text_id: 1; text: Este es mi documento favorito')\n",
    "# Luego centramos el texto\n",
    "v2 = document_actions.push('Acción: format; text_id: 1; alignment: center')\n",
    "# Y luego borramos el alineamiento, porque a los usuarios no les gustó como quedó. Deshacemos ese cambio\n",
    "v3 = document_actions.pop()\n",
    "# El título queda mejor a la izquierda y con una fuente en negrita o \"bold\"\n",
    "v4 = document_actions.push('Acción: format; text_id: 1; style: bold')"
   ]
  },
  {
   "cell_type": "code",
   "execution_count": 5,
   "metadata": {},
   "outputs": [
    {
     "name": "stdout",
     "output_type": "stream",
     "text": [
      "('Ha ingresado el elemento: ', 'Acción: enter; text_id: 1; text: Este es mi documento favorito')\n",
      "('Ha ingresado el elemento: ', 'Acción: format; text_id: 1; alignment: center')\n",
      "('Se eliminó el elemento: ', 'Acción: format; text_id: 1; alignment: center')\n",
      "('Ha ingresado el elemento: ', 'Acción: format; text_id: 1; style: bold')\n"
     ]
    }
   ],
   "source": [
    "print(v1)\n",
    "print(v2)\n",
    "print(v3)\n",
    "print(v4)"
   ]
  },
  {
   "cell_type": "markdown",
   "metadata": {},
   "source": [
    "### Otro ejemplo de colas en uso de la programación:\n",
    "\n",
    "Pensemos en algún videojuego, como por ejemplo el MortalKombat, que para hacer una fatality o algún truquito, había que combinar o apretar muchos botones en un período de tiempo muy acotado, entonces como la computadora no puede procesar lo 25 botones que estamos apretando porque no nos acordamos tal cual el truco y estamos probando a ver si sale...\n",
    "\n",
    "Entonces se crea este tipo de algoritmo para que se vaya guardando en una cola"
   ]
  },
  {
   "cell_type": "code",
   "execution_count": null,
   "metadata": {},
   "outputs": [],
   "source": [
    "input_queue = Estructura_Cola()\n",
    "# The player wants to get the upper hand so pressing the right combination of buttons quickly\n",
    "input_queue.enqueue('DOWN')\n",
    "input_queue.enqueue('RIGHT')\n",
    "input_queue.enqueue('B')\n",
    "# Now we can process each item in the queue by dequeueing them\n",
    "key_pressed = input_queue.dequeue() # 'DOWN'\n",
    "# We'll probably change our player position\n",
    "key_pressed = input_queue.dequeue() # 'RIGHT'\n",
    "# We'll change the player's position again and keep track of a potential special move to perform\n",
    "key_pressed = input_queue.dequeue() # 'B'\n",
    "# This can do the act, but the game's logic will know to do the special move"
   ]
  }
 ],
 "metadata": {
  "kernelspec": {
   "display_name": "Python 3 (ipykernel)",
   "language": "python",
   "name": "python3"
  },
  "language_info": {
   "codemirror_mode": {
    "name": "ipython",
    "version": 3
   },
   "file_extension": ".py",
   "mimetype": "text/x-python",
   "name": "python",
   "nbconvert_exporter": "python",
   "pygments_lexer": "ipython3",
   "version": "3.9.13"
  },
  "vscode": {
   "interpreter": {
    "hash": "6d99bf0d643eed1325676542f0e36a26c95a95a18dabac2559562a081a2ab231"
   }
  }
 },
 "nbformat": 4,
 "nbformat_minor": 4
}
