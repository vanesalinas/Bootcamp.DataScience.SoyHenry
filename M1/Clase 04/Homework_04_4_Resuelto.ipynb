{
 "cells": [
  {
   "cell_type": "code",
   "execution_count": 73,
   "metadata": {},
   "outputs": [],
   "source": [
    "import pandas as pd \n",
    "df = pd.read_csv('hospitales2.csv', encoding='utf-8')"
   ]
  },
  {
   "cell_type": "code",
   "execution_count": 74,
   "metadata": {},
   "outputs": [],
   "source": [
    "coordenadas = [coordenadas.split() for coordenadas in df['WKT']]\n",
    "longitude = [float(elemento[1].strip('(')) for elemento in coordenadas]\n",
    "latitude = [float(elemento[2].strip(')')) for elemento in coordenadas]\n"
   ]
  },
  {
   "cell_type": "code",
   "execution_count": 75,
   "metadata": {},
   "outputs": [],
   "source": [
    "datos = dict(latitude=latitude, longitude =longitude, name=df['DOM_NORMA'], label=df['NOM_MAP'])\n",
    "pd.DataFrame(datos).to_csv('hospitales_salida.csv', index=False)"
   ]
  },
  {
   "cell_type": "code",
   "execution_count": null,
   "metadata": {},
   "outputs": [],
   "source": [
    "#Se introduce el módulo CSV para resolverlo\n",
    "import csv\n",
    "tabla = csv.reader( open('hospitales2.csv', encoding = 'utf-8'))\n",
    "with open('salida.csv', 'w', encoding='utf-8', newline='') as salida:\n",
    "    salida_writer = csv.writer(salida)\n",
    "    next(tabla)\n",
    "    salida_writer.writerow(['latitude','longitude','name','label'])\n",
    "    for linea in tabla:\n",
    "        coordenadas = linea[0][7:-1].split()\n",
    "        salida_writer.writerow([coordenadas[1], coordenadas[0], linea[3], linea[8]])\n"
   ]
  }
 ],
 "metadata": {
  "interpreter": {
   "hash": "11938c6bc6919ae2720b4d5011047913343b08a43b18698fd82dedb0d4417594"
  },
  "kernelspec": {
   "display_name": "Python 3.9.7 64-bit",
   "language": "python",
   "name": "python3"
  },
  "language_info": {
   "codemirror_mode": {
    "name": "ipython",
    "version": 3
   },
   "file_extension": ".py",
   "mimetype": "text/x-python",
   "name": "python",
   "nbconvert_exporter": "python",
   "pygments_lexer": "ipython3",
   "version": "3.9.7"
  },
  "orig_nbformat": 4
 },
 "nbformat": 4,
 "nbformat_minor": 2
}
